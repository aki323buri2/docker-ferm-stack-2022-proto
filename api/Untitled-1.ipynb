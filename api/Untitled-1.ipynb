{
 "cells": [
  {
   "cell_type": "code",
   "execution_count": null,
   "metadata": {},
   "outputs": [],
   "source": [
    "from tortoise import fields, models \n",
    "from tortoise.contrib.pydantic import pydantic_model_creator \n",
    "\n",
    "class User(models.Model):\n",
    "  id = fields.IntField(pk=True)\n",
    "  name = fields.CharField(max_length=50, null=True)\n",
    "  family_name = fields.CharField(max_length=50, null=True)\n",
    "  category = fields.CharField(max_length=30, default=\"misc\")\n",
    "  password_hash = fields.CharField(max_length=128, null=True)\n",
    "  created_at = fields.DatetimeField(auto_now_add=True)\n",
    "  modified_at = fields.DatetimeField(auto_now=True)\n",
    "\n",
    "  class PydangicMeta:\n",
    "    exclude = [\"password_hash\"] \n",
    "\n",
    "User_Pydantic = pydantic_model_creator(User, name=\"User\")\n",
    "UserIn_Pydantic = pydantic_model_creator(User, name=\"UserIn\", exclude_readonly=True)\n",
    "\n",
    "await Tortoise.init(config=dict(\n",
    "  connections=dict(\n",
    "    default=\"sqlite://:memory:\", \n",
    "  ), \n",
    "  apps=dict(\n",
    "    app=dict(\n",
    "      models=[\"__main__\"], \n",
    "    )\n",
    "  ), \n",
    "  generate_schema=True, \n",
    "  timezone=\"Asia/Tokyo\"\n",
    "))\n",
    "await Tortoise.generate_schemas()"
   ]
  },
  {
   "cell_type": "code",
   "execution_count": null,
   "metadata": {},
   "outputs": [],
   "source": [
    "user = await User.create(name=\"new User\")\n",
    "user"
   ]
  },
  {
   "cell_type": "code",
   "execution_count": null,
   "metadata": {},
   "outputs": [],
   "source": [
    "user.filter(id=1)\n",
    "await User_Pydantic.from_queryset_single(user.get(id=1))"
   ]
  },
  {
   "cell_type": "code",
   "execution_count": null,
   "metadata": {},
   "outputs": [],
   "source": [
    "type(user.filter(id=1))"
   ]
  }
 ],
 "metadata": {
  "kernelspec": {
   "display_name": "Python 3.8.10 64-bit",
   "language": "python",
   "name": "python3"
  },
  "language_info": {
   "codemirror_mode": {
    "name": "ipython",
    "version": 3
   },
   "file_extension": ".py",
   "mimetype": "text/x-python",
   "name": "python",
   "nbconvert_exporter": "python",
   "pygments_lexer": "ipython3",
   "version": "3.9.2"
  },
  "orig_nbformat": 4,
  "vscode": {
   "interpreter": {
    "hash": "31f2aee4e71d21fbe5cf8b01ff0e069b9275f58929596ceb00d14d90e3e16cd6"
   }
  }
 },
 "nbformat": 4,
 "nbformat_minor": 2
}
